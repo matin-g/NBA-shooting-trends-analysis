{
 "cells": [
  {
   "cell_type": "markdown",
   "metadata": {},
   "source": [
    "# COGS 108 - Final Project Proposal"
   ]
  },
  {
   "cell_type": "markdown",
   "metadata": {},
   "source": [
    "# Names\n",
    "\n",
    "- Matin Ghaffari\n",
    "- Jorge Acevedo\n",
    "- James Lu\n",
    "- Alan Amirian\n",
    "- Rahil Shah"
   ]
  },
  {
   "cell_type": "markdown",
   "metadata": {},
   "source": [
    "# Research Question"
   ]
  },
  {
   "cell_type": "markdown",
   "metadata": {},
   "source": [
    "How have players' shooting regions changed over the last 20 years from October 29, 2000 to October 11, 2020 and how has these changes affected various player positions?"
   ]
  },
  {
   "cell_type": "markdown",
   "metadata": {},
   "source": [
    "## Background and Prior Work"
   ]
  },
  {
   "cell_type": "markdown",
   "metadata": {},
   "source": [
    "&emsp;&emsp; Our group decided to conduct our research question on a popular topic in the NBA community, shooting trends in the NBA. More specifically, we decided to look at patterns where players took more or less shots than before, and variations in the positions of those players. We are interested in answering such a question to provide more insight to spectators and followers in the dynamics of the game that aren't easily observable at glance but rather in trends that can be found in data with abundant observations over time. By answering this question we can help those who analyze the sport to provide a better understanding of the game and team dynamics and to potentially help those who study, report, or wage on the sport through our analysis.\n",
    "    \n",
    "&emsp;&emsp; It is by no means a secret that there are more three point shots being shot than ever before (source 5). We were curious about who is shooting these three pointers by examining their positions and other various shooting statistics to determine whether or not they were effective in their job. According to Fivethirtyeight (source 6), \"NBA players make only 40 percent of their shots between 8 and 9 feet from the rim, and that number drops to only 35 percent between 25 and 26 feet from the rim”. For context, the three point shot line varies from 22 feet at the corners to 23 feet and 9 inches at its furthest point (source 7). This small difference in risk between a 2 point shot and 3 point shot potentially makes it more advantageous to shoot a 3 rather than a 2 pointer and likely explains why NBA players might be taking more three point shots than ever before. \n",
    "\n",
    "&emsp;&emsp; In addition to analyzing the number of three point attempts we also wanted to explore how positions have been impacted by potentially increasing three point attempts. We expect that with the change in floor spacing, the roles of traditional big men and center positions might also change (source 8). To provide better context The Guardian (source 8) uses Dirk Nowitzki as an example of a player breaking the traditional mold for his position and compares how other players with the same archetype are playing that role today. Some may attribute the increase in 3-point shot attempts to stronger defense in the 2-point zone, but it could also be related to the increase in skill of 3-point shooters. Thus, we would like to weigh the value of defense and increased shooting skill through various differen't defensive and shooting statistics to address this concern in our project. \n",
    "\n",
    "References (include links):\n",
    "- 1) https://www.basketball-reference.com/\n",
    "- 2) https://www.nba.com/\n",
    "- 3) https://datavizardry.com/\n",
    "- 4) https://towardsdatascience.com/are-3-pointers-more-important-than-2-pointers-in-the-nba-1fa8e1422c60\n",
    "- 5) https://www.theringer.com/nba/2019/2/27/18240583/3-point-boom-\n",
    "- 6) https://fivethirtyeight.com/features/how-mapping-shots-in-the-nba-changed-it-forever/\n",
    "- 7) https://basketballword.com/how-far-is-the-3-point-line-from-the-hoop/\n",
    "- 8) https://www.theguardian.com/sport/blog/2018/may/01/how-and-why-position-less-lineups-have-taken-over-the-nba-playoffs"
   ]
  },
  {
   "cell_type": "markdown",
   "metadata": {},
   "source": [
    "# Hypothesis\n"
   ]
  },
  {
   "cell_type": "markdown",
   "metadata": {},
   "source": [
    "&emsp;&emsp; We hypothesize that more three point shots are being taken than ever before and that there is a larger diversity of positions who are shooting three point shots than ever before. We hypothesize this because this is a common trend being observed by many and being discussed in statistics, we see this according to Fivethirtyeight (source 6), \"NBA players make only 40 percent of their shots between 8 and 9 feet from the rim, and that number drops to only 35 percent between 25 and 26 feet from the rim”. Since the three point shot line varies from 22 feet at the corners to 23 feet and 9 inches at its furthest point we know that this range falls near the range where 40 percent of players make their shot which is only a 5% difference in chance from a two pointer (source 7). This small difference in risk between a 2 point shot and 3 point shot makes it more advantageous to shoot a 3 point shot rather than a 2 point shot which provides valuable reasoning to support our hypothesis and potentially explains why NBA players might be taking more three point shots than ever before. "
   ]
  },
  {
   "cell_type": "markdown",
   "metadata": {},
   "source": [
    "# Data"
   ]
  },
  {
   "cell_type": "markdown",
   "metadata": {},
   "source": [
    "&emsp;&emsp; The ideal dataset to answer this question would have data spanning from our date range starting from October 29, 2000 to October 11, 2020 which is the seasons prior to the Coronavirus pandemic in order to avoid possible inconsistencies in the data trends due to the potential various impacts and data noise that COVID-19 may have imposed. It is also important for our data to have a decently large sample size that well represents the league to prevent any under or over representation of certain groups of data such as within teams, positions, or player characteristics. We would prefer the data to have micro variables such as discrete number of shot attempts, continuous number for shot distance, a categorical value for the shot category of either 2 or 3 points, continuous values for the x and y coordinate of each shot, and nominal categorical variables for the player and position corresponding to shots, as well as macro variables that include league wide field goal attempts, field goal types (2 or 3 points), field goal percentages per type of shot, and other potentially important numerical and categorical metrics. The observations should vary year to year but we would want around 200,000 observations per year to provide a reasonable sample of data and to avoid any unequal representation of data.\n",
    "\n",
    "&emsp;&emsp; Furthermore, we would prefer that our data come directly from a NBA or NBA affiliate statistics source to ensure that the numbers are as accurate and reliable as possible. By doing so we will have clean and reliable data sets to better ensure the accuracy and quality of our data and wouldn't have to account as much for erroneous or missing observations. Our data would ideally be stored online and organized relationally so that importing into pandas goes as smoothly as possible and to better create meaningful analysis through effective and accurate joining of information from different tables and data sets."
   ]
  },
  {
   "cell_type": "markdown",
   "metadata": {},
   "source": [
    "# Ethics & Privacy"
   ]
  },
  {
   "cell_type": "markdown",
   "metadata": {},
   "source": [
    "&emsp;&emsp; When conducting this project it is important for us to consider and keep in mind all of the potential ethical concerns, privacy concerns, and potential implications associated with our question and analysis. Since the data we will be using is comprised of professional athletes who have agreed to  official contracts, the players have given informed consent to publicize their information such as physical metrics that include weight, height, and date of birth as well as performance statistics. Therefore, informed consent has been addressed in our project and there also isn't a need to anonymize the data since the players have agreed and provided consent to the data we are using via their professional contract and through the nature data which is broadcasted and publicized openly for anyone to see and record. Furthermore, players have the right to opt out at any time and stop their statistics from being recorded by dropping out of the league and terminating their contract through a $0 buyout. However this right to opt out at any time isn't completely granted and there may be some ethical concerns, since players cannot request a deletion of their data after dropping out of the league due to their data already being publicized and because of the legality of NBA contracts.\n",
    "\n",
    "&emsp;&emsp; Furthermore, concerns for data storage have already been addressed due to the fact that the data set is open to the public and is already consented to by the subjects of the data to be released and non-anonymized. However it is important for us to be mindful of the data sets we are using and to be careful of where we are obtaining our data from. This is because, professional basketball is broadcasted and is available for anyone to record statistics upon, therefore it is important for us to obtain our data directly from the NBA and other reputable affiliates that provide reliable and unbiased data sets that are free of errors, missingingness, and other potentially misleading aspects of the data. As a result, it is important for us in our analysis to take into account ethical considerations that correspond to ensuring the data is clean to avoid any errors or misinformation in our results, which can possibly occur if we do not properly clean our data by filtering out missing values that may result in inaccurate results and analysis. In addition, we will set aside preconceptions and personal biases to avoid any misinterpreted or misleading results through factors such as cognitive bias. This is an important concern that we will address in order to prevent having our analysis being based on personal beliefs or unintentional external influences and to instead follow what the data suggests. It is important to address the threat of these potential ethical concerns especially in the topic of sports where there are many strong personal beliefs and biases accompanying certain teams, players, or other aspects of the sport. \n",
    "\n",
    "&emsp;&emsp; Additionally, we will ensure that our report is clear and understandable to the reader and ensure that our analysis has ethical modeling, since we will use variables from the data set that are understandable metrics that do not have any confounding factors or spurious correlations which could result in inaccurate and misleading results. Also we will provide proper documentation of all of our analysis procedures, data, variables, and other details in order to make it clear how we are forming our results and model to others to avoid appearing as a black box and to ensure our credibility.\n",
    "\n",
    "&emsp;&emsp; These ethical concerns are important for us to address in order for us to establish an analysis that is reliable as well as ethically posed and executed. Addressing these concerns go hand in hand with our ethics regarding the potential deployment of our analysis and model, since we attain to provide an accurate answer to our question since and any misleading results can lead to further ethical concerns and implications if people are misled, disadvantaged, or unethically benefiting from our model.\n"
   ]
  },
  {
   "cell_type": "markdown",
   "metadata": {},
   "source": [
    "# Team Expectations "
   ]
  },
  {
   "cell_type": "markdown",
   "metadata": {},
   "source": [
    "* *Everyone will contribute equally*\n",
    "* *We will together work on each section of the project rather than dividing sections*\n",
    "* *Everyone will respect each other's thoughts and ideas*\n",
    "* *We will communicate through discord and have calls through zoom/discord*\n",
    "* *We will communicate consistently to answer any questions people may have*\n",
    "* *We will help eachother and be available for eachother if one needs assistance*\n",
    "* *Everyone should attend the team meetings*\n",
    "* *We will keep track of our progress and discuss new additions or changes, and things needed to get done*\n",
    "* *If conflicts arise, then we will discuss them as a team to decide how to proceed*\n",
    "* *We will meet 2 times per week to check up on each other’s progress and to discuss our analysis*\n",
    "* *We will review each other’s work to make sure that we have same understanding and so we all agree*"
   ]
  },
  {
   "cell_type": "markdown",
   "metadata": {},
   "source": [
    "# Project Timeline Proposal"
   ]
  },
  {
   "cell_type": "markdown",
   "metadata": {},
   "source": [
    "| Meeting Date  | Meeting Time| Completed Before Meeting  | Discuss at Meeting |\n",
    "|---|---|---|---|\n",
    "| 10/29  |  5 PM | Find data sets and figure out which parts are important (Matin, Alan) | Discuss and look at data sets | \n",
    "| 11/30 |  5 PM | Pick which Data Sets are going to be used in the final project (Jorge, Matin, James)  | Begin Data Wrangling | \n",
    "| 11/2  |  3 PM | Revist question and think of potential changes or things to consider (Everyone) | Reconsider question and discuss potential changes | \n",
    "| 11/4  |  4:30 PM | Revist Hypothesis and think of potential changes or things to consider (Rahil, Alan, James) | Reconsider hypothesis and discuss potential changes | \n",
    "| 11/4  |  5 PM | Revist Data and Background section and think of potential changes or things to consider (Matin, Alan) | Discuss potential changes or new data implications| \n",
    "| 11/5  |  5 PM | Wrangle data  (Jorge, James, Rahil) | Finalize and turn in data checkpoint | \n",
    "| 11/8  |  5 PM | Make sure there are no inconsistencies in the data (Jorge, Matin, Alan)  | Discuss which visualizations will be the best for understanding the data | \n",
    "| 11/12  |   5 PM  | Create visualizations (Matin, James, Jorge) | Further perform exploratory data analysis   |\n",
    "| 11/15  |  5 PM | Interpret data measures and figure out which observations are most important (Jorge, Rahil, Alan) | Discuss statistics that will be used and formal results we will have in our analysis | \n",
    "| 11/17  |  5 PM  | Complete data analysis formal report (James, Rahil)| Discuss/edit data analysis   | \n",
    "| 11/19  |  5 PM | Draw conclusions (Alan, Matin, James) | Finalize and turn in EDA   |\n",
    "| 11/25  |   5 PM   | Do more in depth analysis (Jorge, James, Rahil)| Finalize analysis details|\n",
    "| 11/29  |   5 PM   | Draw deeper conclusions (Matin, Alan)| Finalize conclusions details|\n",
    "| 12/1  |  3 PM   | Clean Background section (Alan, Rahil) | Review changes in cleaned background section |\n",
    "| 12/3  |  3 PM   | Clean Data Section (Alan, Jorge) | Review changes in cleaned data section|\n",
    "| 12/5  |  3 PM   | Clean Data Visualizations (Matin, James) | Review cleaned data visualizations |\n",
    "| 12/6  |  5 PM   | Clean Ethics and Privacy (Matin, Rahil) | Review changes in cleaned ethics and privacy section|\n",
    "| 12/7  |  3 PM   | Clean Analysis and Conclusion Section (Everyone) | Review changes in cleaned analysis section |\n",
    "| 12/8  |  5 PM   | Clean all written sections and comments (Everyone) | Review changes to written sections|\n",
    "| 12/10  |  8 PM   | Review final project (Everyone)| Review Final Project prior to it being due |"
   ]
  }
 ],
 "metadata": {
  "kernelspec": {
   "display_name": "Python 3",
   "language": "python",
   "name": "python3"
  },
  "language_info": {
   "codemirror_mode": {
    "name": "ipython",
    "version": 3
   },
   "file_extension": ".py",
   "mimetype": "text/x-python",
   "name": "python",
   "nbconvert_exporter": "python",
   "pygments_lexer": "ipython3",
   "version": "3.8.8"
  }
 },
 "nbformat": 4,
 "nbformat_minor": 2
}
